{
 "cells": [
  {
   "cell_type": "code",
   "execution_count": 1,
   "metadata": {},
   "outputs": [],
   "source": [
    "counties = [\"Arapahoe\",\"Denver\",\"Jefferson\"]"
   ]
  },
  {
   "cell_type": "code",
   "execution_count": 2,
   "metadata": {},
   "outputs": [
    {
     "data": {
      "text/plain": [
       "['Arapahoe', 'Denver', 'Jefferson']"
      ]
     },
     "execution_count": 2,
     "metadata": {},
     "output_type": "execute_result"
    }
   ],
   "source": [
    "counties"
   ]
  },
  {
   "cell_type": "code",
   "execution_count": null,
   "metadata": {},
   "outputs": [],
   "source": []
  },
  {
   "cell_type": "code",
   "execution_count": 3,
   "metadata": {},
   "outputs": [],
   "source": [
    "my_family = [\n",
    "  { \"family_name\": \"Tunnicliffe\",\n",
    "    \"num_people\": 4,\n",
    "    \"local\": True,\n",
    "    \"city\": \"Bethpage, NY\",\n",
    "    \"date_established\": 2014,\n",
    "    \"names\": [\"Diane\", \"Steve\", \"Dylan\", \"Landon\"],\n",
    "    \"number_of_children\": 2,\n",
    "    \"children\": [\n",
    "      {\n",
    "        \"name\": \"Dylan\",\n",
    "        \"age\": 5,\n",
    "        \"favorite_color\": \"black\",\n",
    "        \"nickname\": \"Dillybeans\",\n",
    "        \"loves\": \"Super Mario\",\n",
    "      },\n",
    "      {\n",
    "        \"name\": \"Landon\",\n",
    "        \"age\": 2,\n",
    "        \"favorite_color\": \"blue\",\n",
    "        \"nickname\": \"Landybean\",\n",
    "        \"loves\": \"trucks\",\n",
    "      }\n",
    "    ]\n",
    "  },\n",
    "  { \"family_name\": \"Agulnick\",\n",
    "    \"num_people\": 5,\n",
    "    \"local\": False,\n",
    "    \"city\": \"Newton, MA\",\n",
    "    \"date_established\": 1987,\n",
    "    \"names\": [\"Ellen\", \"Mark\", \"Diane\", \"Joshua\", \"Allison\"],\n",
    "    \"number_of_children\": 3,\n",
    "    \"children\": [\n",
    "      {\n",
    "        \"name\": \"Diane\",\n",
    "        \"age\": 31,\n",
    "        \"favorite_color\": \"pink\",\n",
    "        \"nickname\": \"Dini\",\n",
    "        \"loves\": \"unicorns\",\n",
    "      },\n",
    "      {\n",
    "        \"name\": \"Joshua\",\n",
    "        \"age\": 28,\n",
    "        \"favorite_color\": \"red\",\n",
    "        \"nickname\": \"Joshie\",\n",
    "        \"loves\": \"trains\",\n",
    "      },\n",
    "      {\n",
    "        \"name\": \"Allison\",\n",
    "        \"age\": 26,\n",
    "        \"favorite_color\": \"purple\",\n",
    "        \"nickname\": \"Alli\",\n",
    "        \"loves\": \"candy\",\n",
    "      }\n",
    "    ]\n",
    "  }\n",
    "]"
   ]
  },
  {
   "cell_type": "code",
   "execution_count": 4,
   "metadata": {},
   "outputs": [
    {
     "data": {
      "text/plain": [
       "[{'family_name': 'Tunnicliffe',\n",
       "  'num_people': 4,\n",
       "  'local': True,\n",
       "  'city': 'Bethpage, NY',\n",
       "  'date_established': 2014,\n",
       "  'names': ['Diane', 'Steve', 'Dylan', 'Landon'],\n",
       "  'number_of_children': 2,\n",
       "  'children': [{'name': 'Dylan',\n",
       "    'age': 5,\n",
       "    'favorite_color': 'black',\n",
       "    'nickname': 'Dillybeans',\n",
       "    'loves': 'Super Mario'},\n",
       "   {'name': 'Landon',\n",
       "    'age': 2,\n",
       "    'favorite_color': 'blue',\n",
       "    'nickname': 'Landybean',\n",
       "    'loves': 'trucks'}]},\n",
       " {'family_name': 'Agulnick',\n",
       "  'num_people': 5,\n",
       "  'local': False,\n",
       "  'city': 'Newton, MA',\n",
       "  'date_established': 1987,\n",
       "  'names': ['Ellen', 'Mark', 'Diane', 'Joshua', 'Allison'],\n",
       "  'number_of_children': 3,\n",
       "  'children': [{'name': 'Diane',\n",
       "    'age': 31,\n",
       "    'favorite_color': 'pink',\n",
       "    'nickname': 'Dini',\n",
       "    'loves': 'unicorns'},\n",
       "   {'name': 'Joshua',\n",
       "    'age': 28,\n",
       "    'favorite_color': 'red',\n",
       "    'nickname': 'Joshie',\n",
       "    'loves': 'trains'},\n",
       "   {'name': 'Allison',\n",
       "    'age': 26,\n",
       "    'favorite_color': 'purple',\n",
       "    'nickname': 'Alli',\n",
       "    'loves': 'candy'}]}]"
      ]
     },
     "execution_count": 4,
     "metadata": {},
     "output_type": "execute_result"
    }
   ],
   "source": [
    "my_family\n"
   ]
  },
  {
   "cell_type": "code",
   "execution_count": 30,
   "metadata": {},
   "outputs": [
    {
     "name": "stdout",
     "output_type": "stream",
     "text": [
      "[{'family_name': 'Tunnicliffe', 'num_people': 4, 'local': True, 'city': 'Bethpage, NY', 'date_established': 2014, 'names': ['Diane', 'Steve', 'Dylan', 'Landon'], 'number_of_children': 2, 'children': [{'name': 'Dylan', 'age': 5, 'favorite_color': 'black', 'nickname': 'Dillybeans', 'loves': 'Super Mario'}, {'name': 'Landon', 'age': 2, 'favorite_color': 'blue', 'nickname': 'Landybean', 'loves': 'trucks'}]}, {'family_name': 'Agulnick', 'num_people': 5, 'local': False, 'city': 'Newton, MA', 'date_established': 1987, 'names': ['Ellen', 'Mark', 'Diane', 'Joshua', 'Allison'], 'number_of_children': 3, 'children': [{'name': 'Diane', 'age': 31, 'favorite_color': 'pink', 'nickname': 'Dini', 'loves': 'unicorns'}, {'name': 'Joshua', 'age': 28, 'favorite_color': 'red', 'nickname': 'Joshie', 'loves': 'trains'}, {'name': 'Allison', 'age': 26, 'favorite_color': 'purple', 'nickname': 'Alli', 'loves': 'candy'}]}]\n"
     ]
    }
   ],
   "source": [
    "cities =[]\n",
    "\n",
    "for location in my_family:\n",
    "        \n",
    "        cities.append(location)\n",
    "    \n",
    "print(cities)"
   ]
  },
  {
   "cell_type": "code",
   "execution_count": 23,
   "metadata": {},
   "outputs": [
    {
     "name": "stdout",
     "output_type": "stream",
     "text": [
      "['Diane', 'Steve', 'Dylan', 'Landon', 'Ellen', 'Mark', 'Diane', 'Joshua', 'Allison']\n"
     ]
    }
   ],
   "source": [
    "for location in my_family:\n",
    "    for cities in location[]:\n",
    "        city\n",
    "    \n",
    "print(list_1)\n",
    "        \n",
    "    "
   ]
  },
  {
   "cell_type": "code",
   "execution_count": null,
   "metadata": {},
   "outputs": [],
   "source": []
  },
  {
   "cell_type": "code",
   "execution_count": null,
   "metadata": {},
   "outputs": [],
   "source": []
  }
 ],
 "metadata": {
  "kernelspec": {
   "display_name": "PythonData",
   "language": "python",
   "name": "pythondata"
  },
  "language_info": {
   "codemirror_mode": {
    "name": "ipython",
    "version": 3
   },
   "file_extension": ".py",
   "mimetype": "text/x-python",
   "name": "python",
   "nbconvert_exporter": "python",
   "pygments_lexer": "ipython3",
   "version": "3.8.3"
  }
 },
 "nbformat": 4,
 "nbformat_minor": 4
}
